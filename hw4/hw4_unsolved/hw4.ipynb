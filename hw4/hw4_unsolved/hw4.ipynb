{
 "cells": [
  {
   "cell_type": "markdown",
   "metadata": {},
   "source": [
    "# Homework 4\n",
    "In this assignment, we will building a Naïve Bayes classifier and a SVM model for the productivity satisfaction of [the given dataset](https://archive.ics.uci.edu/ml/datasets/Productivity+Prediction+of+Garment+Employees), the productivity of garment employees.\n",
    "\n",
    "## For Questions 1-3:\n",
    "### Background \n",
    "The Garment Industry is one of the key examples of the industrial globalization of this modern era. It is a highly labour-intensive industry with lots of manual processes. Satisfying the huge global demand for garment products is mostly dependent on the production and delivery performance of the employees in the garment manufacturing companies. So, it is highly desirable among the decision makers in the garments industry to track, analyse and predict the productivity performance of the working teams in their factories. \n",
    "\n",
    "### Dataset Attribute Information\n",
    "\n",
    "1. **date**: Date in MM-DD-YYYY\n",
    "2. **day**: Day of the Week\n",
    "3. **quarter** : A portion of the month. A month was divided into four quarters\n",
    "4. **department** : Associated department with the instance\n",
    "5. **team_no** : Associated team number with the instance\n",
    "6. **no_of_workers** : Number of workers in each team\n",
    "7. **no_of_style_change** : Number of changes in the style of a particular product\n",
    "8. **targeted_productivity** : Targeted productivity set by the Authority for each team for each day.\n",
    "9. **smv** : Standard Minute Value, it is the allocated time for a task\n",
    "10. **wip** : Work in progress. Includes the number of unfinished items for products\n",
    "11. **over_time** : Represents the amount of overtime by each team in minutes\n",
    "12. **incentive** : Represents the amount of financial incentive (in BDT) that enables or motivates a particular course of action.\n",
    "13. **idle_time** : The amount of time when the production was interrupted due to several reasons\n",
    "14. **idle_men** : The number of workers who were idle due to production interruption\n",
    "15. **actual_productivity** : The actual % of productivity that was delivered by the workers. It ranges from 0-1.\n",
    "\n",
    "#### Libraries that can be used: numpy, scipy, pandas, scikit-learn, cvxpy, imbalanced-learn\n",
    "Any libraries used in the discussion materials are also allowed.\n",
    "\n",
    "#### Other Notes\n",
    "\n",
    " - Don't worry about not being able to achieve high accuracy, it is neither the goal nor the grading standard of this assignment. <br >\n",
    " - If not specified, you are not required to do hyperparameter tuning, but feel free to do so if you'd like.\n",
    "\n",
    "#### Trouble Shooting\n",
    "In case you have trouble installing and using imbalanced-learn(imblearn) <br >\n",
    "Run the below code cell, then go to the selection bar at top: Kernel > Restart. <br >\n",
    "Then try `import imblearn` to see if things work. \n",
    "\n",
    "\n",
    "we are also working on a list of 1200 bitstrings, where each of them contains 16 bits. <br >\n",
    "We will apply K-means Clustering, and PCA to this dataset for Q4-5. <br >\n",
    "\n",
    "### Background and Data Information Q4-5\n",
    "For a bitstring $S$ in this dataset, we describe $S = \\{s_{15}, s_{14}, s_{13}, s_{12}, \\ldots, s_{0} \\}$, where $s_{15}$ is often known as the most significant bit (MSB) and $s_0$ as the least significant bit (LSB). <br >\n",
    "\n",
    "There are duplicated bitstrings in this dataset, but they will not affect this assignment. Don't worry about them. <br >\n",
    "\n",
    "## Equivalence Relation\n",
    "\n",
    "**This is an important concept to Exercise 1.**\n",
    "\n",
    "Let's say if we have two bitstrings, $A = \\{a_{15}, a_{14}, a_{13}, \\ldots, a_{0} \\}$ and $B = \\{b_{15}, b_{14}, b_{13}, \\ldots, b_{0} \\}$. <br >\n",
    "\n",
    "We can flip one bit $a_i$ in $A$ to get another bitstring $A'$, such that the difference of $A$ and $A'$ is only one bit. We define the above transformation to be $A \\to A'$. <br >\n",
    "\n",
    "\n",
    "We call two bitstrings $A$ and $B$ to be **equivalent** ($A \\sim B$) if there exists a sequence $A \\to C_1 \\to C_2 \\to \\cdots \\to C_n \\to B$, where $\\forall i, C_i$ belongs to the dataset. \n",
    "\n",
    "It can be seen that equivalence is both __commutative__ ($A \\sim B \\iff B \\sim A$) as well as __transitive__ ($A \\sim B, B \\sim C \\implies A \\sim C$). <br >\n",
    "\n",
    "We can say that the elements in the above sequence $\\{ A, C_1, \\ldots, C_n, B\\}$ form an equivalence class. Given a new bitstring $X$, we can see that if $X \\sim C_i$, $1 \\le i \\le n$, then $X$ will be added to the above equivalence class, and by the transitive property of equivalence relations, $X \\sim A$, and $X \\sim B$.\n",
    "\n",
    "### Example\n",
    "\n",
    "Let's say we have 4 bitstrings, each of them is 4 bits long. They are $0000, 0010, 0110, 1100$, respectively.<br >\n",
    "\n",
    "We can say $0000 \\sim 0110$ because $0000 \\to 0010 \\to 0110$. <br >\n",
    "\n",
    "However, $0000 \\nsim 1100$. There may be sequences like $0000 \\to 1000 \\to 1100$ or $0000 \\to 0100 \\to 1100$, but neither $1000$ nor $0100$ is in our dataset. <br >\n",
    "\n",
    "Ultimately, $\\{0000, 0010, 0110\\}$ form an equivalence class, whereas $\\{1100\\}$ is the other. As a result, there are two classes."
   ]
  },
  {
   "cell_type": "markdown",
   "metadata": {},
   "source": [
    "## Exercise 1 - General Data Preprocessing (10 points)\n",
    "\n",
    "Our dataset needs cleaning before building any models. Some of the cleaning tasks are common in general, but depends on what kind of models we are building, sometimes we have to do additional processing. These additional tasks will be mentioned in each of the remaining two exercises later.\n",
    "\n",
    "Note that **we will be using this processed data from exercise 1 in each of the remaining two exercises**.\n",
    "\n",
    "For convenience, here are the attributes that we would treat them as **categorical attributes**: `day`, `quarter`, `department`, and `team`. \n",
    "\n",
    " - Drop the column `date`.\n",
    " - For each of the categorical attributes, **print out** all the unique elements.\n",
    " - For each of the categorical attributes, remap the duplicated items, if you find there are typos or spaces among the duplicated items.\n",
    "     - For example, \"a\" and \"a \" should be the same, so we need to update \"a \" to be \"a\".\n",
    "     - Another example, \"apple\" and \"appel\" should be the same, so you should update \"appel\" to be \"apple\".\n",
    "     \n",
    "\n",
    " - Create another column named `satisfied` that records the productivity performance. The behavior defined as follows. **This is the dependent variable we'd like to classify in this assignment.**\n",
    "     - Return True or 1 if `actual_productivity` is equal to or greater than `targeted_productivity`. Otherwise, return False or 0, which means the team fails to meet the expected performance.\n",
    " - Drop the columns `actual_productivity` and `targeted_productivity`.\n",
    "\n",
    "\n",
    " - Find and **print out** which columns/attributes that have empty vaules, e.g., NA, NaN, null, None.\n",
    " - Fill the empty values with 0."
   ]
  },
  {
   "cell_type": "markdown",
   "metadata": {},
   "source": [
    "## Exercise 2 - Naïve Bayes Classifier (20 points in total)\n",
    "\n",
    "### Exercise 2.1 - Additional Data Preprocessing (5 points)\n",
    "\n",
    "To build a Naïve Bayes Classifier, we need to further encode our categorical variables.\n",
    "\n",
    " - For each of the **categorical attribtues**, encode the set of categories to be **0 ~ (n_classes - 1)**.\n",
    "     - For example, \\[\"paris\", \"paris\", \"tokyo\", \"amsterdam\"\\] should be encoded as \\[1, 1, 2, 0\\].\n",
    "     - Note that the order does not really matter, i.e., \\[0, 0, 1, 2\\] also works. But you have to start with 0 in your encodings.\n",
    "     - You can find information about this encoding in the discussion materials.\n",
    "\n",
    "\n",
    " - Split the data into training and testing set with the ratio of 80:20."
   ]
  },
  {
   "cell_type": "markdown",
   "metadata": {},
   "source": [
    "### Exercise 2.2 - Naïve Bayes Classifier for Categorical Attributes (15 points)\n",
    "\n",
    "Use the categorical attributes **only**, please build a Categorical Naïve Bayes classifier that predicts the column `satisfied`. <br >\n",
    "Report the **testing result** using `classification_report`."
   ]
  },
  {
   "cell_type": "markdown",
   "metadata": {},
   "source": [
    "## Exercies 3 - SVM Classifier (30 points in total)\n",
    "\n",
    "### Exercise 3.1 - Additional Data Preprocessing (5 points)\n",
    "\n",
    "To build a SVM Classifier, we need a different encoding for our categorical variables.\n",
    "\n",
    " - For each of the **categorical attribtues**, encode them with **one-hot encoding**.\n",
    "     - You can find information about this encoding in the discussion materials.\n",
    "\n",
    "\n",
    " - Split the data into training and testing set with the ratio of 80:20."
   ]
  },
  {
   "cell_type": "markdown",
   "metadata": {},
   "source": [
    "### Exercise 3.2 - SVM with Different Kernels (15 points)\n",
    "\n",
    "Using all the attributes we have, please build a SVM that predicts the column `satisfied`. <br >\n",
    "Specifically, please \n",
    " - Build one SVM with **linear kernel**.\n",
    " - Build another SVM but with **rbf kernel**.\n",
    " - Report the **testing results** of **both models** using `classification report`.\n",
    "\n",
    "The kernel is the only setting requirement. <br >\n",
    "Other hyperparameter tuning is not required. But make sure they are the same in these two SVMs if you'd like to tune the model. In other words, the only difference between the two SVMs should be the kernel setting.\n",
    "\n",
    "**Remember to scale your data. The scaling method is up to you.**"
   ]
  },
  {
   "cell_type": "markdown",
   "metadata": {},
   "source": [
    "### Exercise 3.3 - SVM with Over-sampling (10 points)\n",
    " - For the column `satisfied` in our **training set**, please **print out** the frequency of each class. \n",
    " - Oversample the **training data**. \n",
    " - For the column `satisfied` in the oversampled data, **print out** the frequency of each class  again.\n",
    " - Re-build the 2 SVMs with the same setting you have in Exercise 3.2, but **use oversampled training data** instead.\n",
    "     - Do not forget to scale the data first. As always, the scaling method is up to you.\n",
    " - Report the **testing result** with `classification_report`.\n",
    "\n",
    "You can use ANY methods listed on [here](https://imbalanced-learn.org/stable/references/over_sampling.html#) such as RandomOverSampler or SMOTE. <br > \n",
    "You are definitely welcomed to build your own oversampler. <br >\n",
    "\n",
    "Note that you do not have to over-sample your testing data."
   ]
  },
  {
   "cell_type": "markdown",
   "metadata": {},
   "source": [
    "## Exercise 4 - K-Means Clustering (25 points in total)\n",
    "Let's see how k-means behave differently from agglomerative clustering.\n",
    "\n",
    "### Exercise 4.1 - K-Means Clustering for Equivalence Classes (10 points)\n",
    " - Cluster the dataset with k-means, but with the number 60.\n",
    " - Calculate and report the Akaike Information Criterion\n",
    " - Show the frequency(number of members) of each cluster. Again, you are encouraged to create a bar chart, but printing the numbers is also fine.\n"
   ]
  },
  {
   "cell_type": "markdown",
   "metadata": {},
   "source": [
    "### Exercise 4.2 - Difference between Agglomerative Clustering and K-Means Clustering (5 points)\n",
    "\n",
    "Explain\n",
    "- What are the difference Agglomerative Clustering and K-Means Clustering\n",
    "- Why there is such a difference"
   ]
  },
  {
   "cell_type": "markdown",
   "metadata": {},
   "source": [
    "### Exercise 4.3 - Generate 2 Clusters (10 points)\n",
    "\n",
    " - Re-do the k-means clustering on our dataset again, but this time we only consider ```k=2```.\n",
    " - Calculate and report the Akaike Information Criterion.\n",
    " - Show the frequency(number of members) of each cluster.\n",
    " \n",
    "Is this a better model compare to exercise 4.1?"
   ]
  },
  {
   "cell_type": "markdown",
   "metadata": {},
   "source": [
    "## Exercise 5 - Principal Component Analysis (15 points in total)\n",
    "\n",
    "We can visualize how the bitstrings are distributed using principal component analysis.\n",
    "\n",
    " - Retrieve the projected dataset with PCA, using ```n_components=2```.\n",
    " - Generate a scatter plot to visualize the projected points, where they should be colored differently based on the assigned cluster in Exercise 4.1.\n",
    " - In the first principal component, **print out** the weights of all features.\n",
    " - Report which feature has the **highest positive** weight in the first principal component."
   ]
  }
 ],
 "metadata": {
  "language_info": {
   "name": "python"
  }
 },
 "nbformat": 4,
 "nbformat_minor": 2
}
