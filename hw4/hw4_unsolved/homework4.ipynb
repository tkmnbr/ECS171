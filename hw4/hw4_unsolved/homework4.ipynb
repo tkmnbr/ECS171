{
 "cells": [
  {
   "cell_type": "code",
   "execution_count": null,
   "metadata": {},
   "outputs": [
    {
     "name": "stdout",
     "output_type": "stream",
     "text": [
      "{'day': array(['Thursday', 'Saturday', 'Sunday', 'Monday', 'Tuesday', 'Wednesday'],\n",
      "      dtype=object), 'quarter': array(['Quarter1', 'Quarter2', 'Quarter3', 'Quarter4', 'Quarter5'],\n",
      "      dtype=object), 'department': array(['sweing', 'finishing ', 'finishing'], dtype=object), 'team': array([ 8,  1, 11, 12,  6,  7,  2,  3,  9, 10,  5,  4])}\n",
      "Index(['wip'], dtype='object')\n",
      "Index([], dtype='object')\n"
     ]
    }
   ],
   "source": [
    "# Exercise 1\n",
    "\n",
    "import pandas as pd\n",
    "\n",
    "data = pd.read_csv('garments_worker_productivity.csv')\n",
    "\n",
    "# Drop the date column\n",
    "if 'date' in data.columns:\n",
    "    data.drop(columns=['date'], inplace=True)\n",
    "\n",
    "# For each of the categorical attributes, print all the unique elements.\n",
    "categorical_columns = ['day', 'quarter', 'department', 'team']\n",
    "unique_values = {col: data[col].unique() for col in categorical_columns}\n",
    "print(unique_values)\n",
    "# From the unique values output, we can see that the there is a duplicated values in department column, which is 'finishing'\n",
    "# since one of them has extra space after the word.\n",
    "# We need to clean the data\n",
    "\n",
    "# Data cleaning for categorical attributes\n",
    "data['day'] = data['day'].str.strip().str.lower()\n",
    "data['quarter'] = data['quarter'].str.strip().str.lower()\n",
    "data['department'] = data['department'].str.strip().str.lower()\n",
    "\n",
    "unique_values = {col: data[col].unique() for col in categorical_columns}\n",
    "\n",
    "# Create another column named satisfied that records the productivity performance.\n",
    "data['satisfied'] = (data['actual_productivity'] >= data['targeted_productivity']).astype(int)\n",
    "\n",
    "# Drop the columns actual_productivity and targeted_productivity\n",
    "data.drop(columns=['actual_productivity', 'targeted_productivity'], inplace=True)\n",
    "\n",
    "# Find and print which columns/attributes have empty values\n",
    "missing_columns = data.columns[data.isnull().any()]\n",
    "print(missing_columns) # wip has empty value\n",
    "\n",
    "# Fill the empty values with 0\n",
    "data.fillna(0, inplace=True)"
   ]
  }
 ],
 "metadata": {
  "kernelspec": {
   "display_name": "base",
   "language": "python",
   "name": "python3"
  },
  "language_info": {
   "codemirror_mode": {
    "name": "ipython",
    "version": 3
   },
   "file_extension": ".py",
   "mimetype": "text/x-python",
   "name": "python",
   "nbconvert_exporter": "python",
   "pygments_lexer": "ipython3",
   "version": "3.11.7"
  }
 },
 "nbformat": 4,
 "nbformat_minor": 2
}
