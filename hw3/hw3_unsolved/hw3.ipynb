{
 "cells": [
  {
   "cell_type": "code",
   "execution_count": 2,
   "metadata": {},
   "outputs": [
    {
     "name": "stderr",
     "output_type": "stream",
     "text": [
      "/opt/anaconda3/lib/python3.11/site-packages/sklearn/preprocessing/_encoders.py:868: FutureWarning: `sparse` was renamed to `sparse_output` in version 1.2 and will be removed in 1.4. `sparse_output` is ignored unless you leave `sparse` to its default value.\n",
      "  warnings.warn(\n"
     ]
    }
   ],
   "source": [
    "# Exercise 1\n",
    "# 1.1\n",
    "# As the classes are categorical, use one-hot encoding to represent the set of classes. \n",
    "# You will find this useful when developing the output layer of the neural network.\n",
    "# Note that the dataset doesn't include data points from all grading levels, \n",
    "# but you may still need to create the one-hot encoding by 10 cols.\n",
    "\n",
    "import pandas as pd\n",
    "from sklearn.preprocessing import OneHotEncoder, MinMaxScaler\n",
    "\n",
    "data = pd.read_csv('winequality-white.csv')\n",
    "\n",
    "encoder = OneHotEncoder(categories=[range(1, 11)], sparse=False)\n",
    "encoded_labels = encoder.fit_transform(data[['quality']])\n",
    "encoded_labels_df = pd.DataFrame(encoded_labels, columns=[f'quality_{i}' for i in range(1, 11)])\n",
    "data = pd.concat([data.drop('quality', axis=1), encoded_labels_df], axis=1)\n",
    "\n",
    "# 1.2\n",
    "scaler = MinMaxScaler()\n",
    "scaled_data = scaler.fit_transform(data.iloc[:, :-10])\n",
    "scaled_data_df = pd.DataFrame(scaled_data, columns=data.columns[:-10])\n",
    "final_data = pd.concat([scaled_data_df, encoded_labels_df], axis=1)\n",
    "\n",
    "\n",
    "\n",
    "\n",
    "\n",
    "\n",
    "\n",
    "\n",
    "\n"
   ]
  }
 ],
 "metadata": {
  "kernelspec": {
   "display_name": "base",
   "language": "python",
   "name": "python3"
  },
  "language_info": {
   "codemirror_mode": {
    "name": "ipython",
    "version": 3
   },
   "file_extension": ".py",
   "mimetype": "text/x-python",
   "name": "python",
   "nbconvert_exporter": "python",
   "pygments_lexer": "ipython3",
   "version": "3.11.7"
  }
 },
 "nbformat": 4,
 "nbformat_minor": 2
}
