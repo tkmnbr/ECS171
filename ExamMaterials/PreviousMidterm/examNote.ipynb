{
 "cells": [
  {
   "cell_type": "code",
   "execution_count": 19,
   "metadata": {},
   "outputs": [
    {
     "name": "stdout",
     "output_type": "stream",
     "text": [
      "7\n",
      "11\n",
      "17\n"
     ]
    }
   ],
   "source": [
    "# x_1 = 5.0\n",
    "# x_2 = 5.0\n",
    "\n",
    "\n",
    "\n",
    "# y_hat = 0.4 - 0.05 * x_1 + 0.07 * x_2\n",
    "\n",
    "# print(y_hat)\n",
    "\n",
    "\n",
    "# y = 0.95\n",
    "# y_t = 0.95\n",
    "\n",
    "# o = (y - y_t)**2\n",
    "\n",
    "# print(o)\n",
    "\n",
    "a = 1\n",
    "b = 1\n",
    "c = 5\n",
    "\n",
    "xs = [1, 2, 3]\n",
    "\n",
    "\n",
    "def find_yp(x):\n",
    "    return a * x**2 + b * x + c\n",
    "\n",
    "for x in xs:\n",
    "    print(find_yp(x))\n",
    "\n"
   ]
  },
  {
   "cell_type": "code",
   "execution_count": 24,
   "metadata": {},
   "outputs": [
    {
     "name": "stdout",
     "output_type": "stream",
     "text": [
      "1.2\n",
      "2.9\n",
      "0.30000000000000004\n",
      "1.3\n",
      "1.5\n",
      "3.4000000000000004\n"
     ]
    }
   ],
   "source": [
    "w_0 = 0.1\n",
    "w_1 = 0.2\n",
    "w_2 = 0.3\n",
    "\n",
    "x_1 = [4, 2, 1, 3, 1, 6]\n",
    "x_2 = [1, 8, 0, 2, 4, 7]\n",
    "\n",
    "# Calculate y_hat for each pair of x_1 and x_2\n",
    "y_hat = [w_0 + w_1*x1 + w_2*x2 for x1, x2 in zip(x_1, x_2)]\n",
    "\n",
    "# Print each y value\n",
    "for y in y_hat:\n",
    "    print(y)"
   ]
  }
 ],
 "metadata": {
  "kernelspec": {
   "display_name": "base",
   "language": "python",
   "name": "python3"
  },
  "language_info": {
   "codemirror_mode": {
    "name": "ipython",
    "version": 3
   },
   "file_extension": ".py",
   "mimetype": "text/x-python",
   "name": "python",
   "nbconvert_exporter": "python",
   "pygments_lexer": "ipython3",
   "version": "3.11.7"
  }
 },
 "nbformat": 4,
 "nbformat_minor": 2
}
